{
 "cells": [
  {
   "cell_type": "code",
   "execution_count": 1,
   "metadata": {},
   "outputs": [],
   "source": [
    "import os\n",
    "import re\n",
    "from collections import defaultdict\n",
    "import pandas as pd\n",
    "from constants import *\n",
    "from cateye import gen_path, tokenize, lemmatize, clean, write_spelling, filterout"
   ]
  },
  {
   "cell_type": "code",
   "execution_count": 2,
   "metadata": {},
   "outputs": [],
   "source": [
    "icd = pd.read_csv('resource/ICD-10-subset.csv')"
   ]
  },
  {
   "cell_type": "code",
   "execution_count": 3,
   "metadata": {},
   "outputs": [],
   "source": [
    "def write_snippet(row):\n",
    "    namespace = row['namespace']\n",
    "    base = os.path.join('data', 'snippet')\n",
    "    code = row['code']\n",
    "    path = gen_path(base, code)\n",
    "    fn = code\n",
    "    fp = os.path.join(path, fn)\n",
    "    template = \"\"\"<h4 class=\"code\"><a>{}</a></h4><p class=\"name\">{}<br/>{}</p>\"\"\"\n",
    "    content = template.format(code, row['en_name'], row['zh_name'])\n",
    "    os.makedirs(path, exist_ok=True)\n",
    "    with open(fp, 'w') as f:\n",
    "        f.write(content)\n",
    "\n",
    "def derive_code(code, namespace):\n",
    "    if namespace == 'cm' and len(code) <= 3:\n",
    "        return [code[:3]]\n",
    "    \n",
    "    if namespace == 'pcs' and len(code) <= 2:\n",
    "        return [code[:2]]\n",
    "    \n",
    "    else:\n",
    "        return [code, *derive_code(code[:-1], namespace)]\n",
    "\n",
    "def write_hint(row):\n",
    "    namespace = row['namespace']\n",
    "    base = os.path.join('data', 'hint')\n",
    "    code = row['code']\n",
    "    path = gen_path(base, code)\n",
    "    fn = code\n",
    "    fp = os.path.join(path, fn)\n",
    "    \n",
    "    # Make content\n",
    "    raw_content = filterout(lemmatize(tokenize(clean(row['en_name']))))\n",
    "    content = '\\n'.join(raw_content)\n",
    "    \n",
    "    # Write to files\n",
    "    os.makedirs(path, exist_ok=True)\n",
    "    with open(fp, 'w') as f:\n",
    "        f.write(content)\n",
    "    return content\n",
    "    \n",
    "def write_token(row):\n",
    "    namespace = row['namespace']\n",
    "    base = os.path.join('data', 'token')\n",
    "    code = row['code']\n",
    "    path = gen_path(base, code)\n",
    "    fn = code\n",
    "    fp = os.path.join(path, fn)\n",
    "    \n",
    "    # Make content\n",
    "    \n",
    "    raw_content = derive_code(code, namespace)\n",
    "    raw_content.extend(tokenize(clean(row['en_name'])))    \n",
    "    content = [token.lower() for token in raw_content if token.lower() not in STOPWORDS]\n",
    "        \n",
    "    content = '\\n'.join(sorted(list(set(content))))\n",
    "    \n",
    "    os.makedirs(path, exist_ok=True)\n",
    "    with open(fp, 'w') as f:\n",
    "        f.write(content)\n",
    "        \n",
    "    return content\n"
   ]
  },
  {
   "cell_type": "code",
   "execution_count": 4,
   "metadata": {},
   "outputs": [],
   "source": [
    "!rm -rf data/snippet data/token data/hint"
   ]
  },
  {
   "cell_type": "code",
   "execution_count": 5,
   "metadata": {},
   "outputs": [],
   "source": [
    "!mkdir data/snippet; mkdir data/token; mkdir data/hint"
   ]
  },
  {
   "cell_type": "code",
   "execution_count": 9,
   "metadata": {},
   "outputs": [
    {
     "name": "stdout",
     "output_type": "stream",
     "text": [
      "Acute tracheitis without obstruction\n",
      "Supraglottitis, unspecified, without obstruction\n",
      "Acute epiglottitis without obstruction\n",
      "Abscess of lung without pneumonia\n",
      "Pyothorax without fistula\n",
      "Pleural plaque without asbestos\n"
     ]
    },
    {
     "data": {
      "text/plain": [
       "0                   acute\\nnasopharyngitis\\ncommon\\ncold\n",
       "1               acute\\nmaxillary\\nsinusitis\\nunspecified\n",
       "2                 acute\\nrecurrent\\nmaxillary\\nsinusitis\n",
       "3                 acute\\nfrontal\\nsinusitis\\nunspecified\n",
       "4                   acute\\nrecurrent\\nfrontal\\nsinusitis\n",
       "5               acute\\nethmoidal\\nsinusitis\\nunspecified\n",
       "6                 acute\\nrecurrent\\nethmoidal\\nsinusitis\n",
       "7              acute\\nsphenoidal\\nsinusitis\\nunspecified\n",
       "8                acute\\nrecurrent\\nsphenoidal\\nsinusitis\n",
       "9                       acute\\npansinusitis\\nunspecified\n",
       "10                        acute\\nrecurrent\\npansinusitis\n",
       "11                               other\\nacute\\nsinusitis\n",
       "12                    other\\nacute\\nrecurrent\\nsinusitis\n",
       "13                         acute\\nsinusitis\\nunspecified\n",
       "14              acute\\nrecurrent\\nsinusitis\\nunspecified\n",
       "15                            streptococcal\\npharyngitis\n",
       "16       acute\\npharyngitis\\nother\\nspecified\\norganisms\n",
       "17                       acute\\npharyngitis\\nunspecified\n",
       "18        acute\\nstreptococcal\\ntonsillitis\\nunspecified\n",
       "19          acute\\nrecurrent\\nstreptococcal\\ntonsillitis\n",
       "20       acute\\ntonsillitis\\nother\\nspecified\\norganisms\n",
       "21     acute\\nrecurrent\\ntonsillitis\\nother\\nspecifie...\n",
       "22                       acute\\ntonsillitis\\nunspecified\n",
       "23            acute\\nrecurrent\\ntonsillitis\\nunspecified\n",
       "24                                     acute\\nlaryngitis\n",
       "25                                     acute\\ntracheitis\n",
       "26                        acute\\ntracheitis\\nobstruction\n",
       "27                              acute\\nlaryngotracheitis\n",
       "28                           supraglottitis\\nunspecified\n",
       "29              supraglottitis\\nunspecified\\nobstruction\n",
       "                             ...                        \n",
       "306      transfusion-related\\nacute\\nlung\\ninjury\\ntrali\n",
       "307                 mechanical\\ncomplication\\nrespirator\n",
       "308                    ventilator\\nassociated\\npneumonia\n",
       "309          other\\ncomplication\\nrespirator\\nventilator\n",
       "310    other\\nintraoperative\\ncomplications\\nrespirat...\n",
       "311    other\\npostprocedural\\ncomplications\\ndisorder...\n",
       "312    acute\\nrespiratory\\nfailure\\nunspecified\\nwhet...\n",
       "313                 acute\\nrespiratory\\nfailure\\nhypoxia\n",
       "314             acute\\nrespiratory\\nfailure\\nhypercapnia\n",
       "315    chronic\\nrespiratory\\nfailure\\nunspecified\\nwh...\n",
       "316               chronic\\nrespiratory\\nfailure\\nhypoxia\n",
       "317           chronic\\nrespiratory\\nfailure\\nhypercapnia\n",
       "318    acute\\nchronic\\nrespiratory\\nfailure\\nunspecif...\n",
       "319        acute\\nchronic\\nrespiratory\\nfailure\\nhypoxia\n",
       "320    acute\\nchronic\\nrespiratory\\nfailure\\nhypercapnia\n",
       "321    respiratory\\nfailure\\nunspecified\\nunspecified...\n",
       "322           respiratory\\nfailure\\nunspecified\\nhypoxia\n",
       "323       respiratory\\nfailure\\nunspecified\\nhypercapnia\n",
       "324                                  acute\\nbronchospasm\n",
       "325    other\\ndiseases\\nbronchus\\nnot\\nelsewhere\\ncla...\n",
       "326                                          atelectasis\n",
       "327                           other\\npulmonary\\ncollapse\n",
       "328                              interstitial\\nemphysema\n",
       "329                              compensatory\\nemphysema\n",
       "330                               other\\ndisorders\\nlung\n",
       "331    diseases\\nmediastinum\\nnot\\nelsewhere\\nclassified\n",
       "332                                 disorders\\ndiaphragm\n",
       "333             other\\nspecified\\nrespiratory\\ndisorders\n",
       "334                   respiratory\\ndisorder\\nunspecified\n",
       "335    respiratory\\ndisorders\\ndiseases\\nclassified\\n...\n",
       "Length: 336, dtype: object"
      ]
     },
     "execution_count": 9,
     "metadata": {},
     "output_type": "execute_result"
    }
   ],
   "source": [
    "icd.apply(write_hint, axis=1)"
   ]
  },
  {
   "cell_type": "code",
   "execution_count": 8,
   "metadata": {},
   "outputs": [
    {
     "name": "stdout",
     "output_type": "stream",
     "text": [
      "Acute tracheitis without obstruction\n",
      "Supraglottitis, unspecified, without obstruction\n",
      "Acute epiglottitis without obstruction\n",
      "Abscess of lung without pneumonia\n",
      "Pyothorax without fistula\n",
      "Pleural plaque without asbestos\n",
      "Acute tracheitis without obstruction\n",
      "Supraglottitis, unspecified, without obstruction\n",
      "Acute epiglottitis without obstruction\n",
      "Abscess of lung without pneumonia\n",
      "Pyothorax without fistula\n",
      "Pleural plaque without asbestos\n"
     ]
    },
    {
     "data": {
      "text/plain": [
       "0              acute\\ncold\\ncommon\\nj00\\nnasopharyngitis\n",
       "1      acute\\nj01\\nj01.\\nj01.0\\nj01.00\\nmaxillary\\nsi...\n",
       "2      acute\\nj01\\nj01.\\nj01.0\\nj01.01\\nmaxillary\\nre...\n",
       "3      acute\\nfrontal\\nj01\\nj01.\\nj01.1\\nj01.10\\nsinu...\n",
       "4      acute\\nfrontal\\nj01\\nj01.\\nj01.1\\nj01.11\\nrecu...\n",
       "5      acute\\nethmoidal\\nj01\\nj01.\\nj01.2\\nj01.20\\nsi...\n",
       "6      acute\\nethmoidal\\nj01\\nj01.\\nj01.2\\nj01.21\\nre...\n",
       "7      acute\\nj01\\nj01.\\nj01.3\\nj01.30\\nsinusitis\\nsp...\n",
       "8      acute\\nj01\\nj01.\\nj01.3\\nj01.31\\nrecurrent\\nsi...\n",
       "9      acute\\nj01\\nj01.\\nj01.4\\nj01.40\\npansinusitis\\...\n",
       "10     acute\\nj01\\nj01.\\nj01.4\\nj01.41\\npansinusitis\\...\n",
       "11     acute\\nj01\\nj01.\\nj01.8\\nj01.80\\nother\\nsinusitis\n",
       "12     acute\\nj01\\nj01.\\nj01.8\\nj01.81\\nother\\nrecurr...\n",
       "13     acute\\nj01\\nj01.\\nj01.9\\nj01.90\\nsinusitis\\nun...\n",
       "14     acute\\nj01\\nj01.\\nj01.9\\nj01.91\\nrecurrent\\nsi...\n",
       "15          j02\\nj02.\\nj02.0\\npharyngitis\\nstreptococcal\n",
       "16     acute\\nj02\\nj02.\\nj02.8\\norganisms\\nother\\npha...\n",
       "17     acute\\nj02\\nj02.\\nj02.9\\npharyngitis\\nunspecified\n",
       "18     acute\\nj03\\nj03.\\nj03.0\\nj03.00\\nstreptococcal...\n",
       "19     acute\\nj03\\nj03.\\nj03.0\\nj03.01\\nrecurrent\\nst...\n",
       "20     acute\\nj03\\nj03.\\nj03.8\\nj03.80\\norganisms\\not...\n",
       "21     acute\\nj03\\nj03.\\nj03.8\\nj03.81\\norganisms\\not...\n",
       "22     acute\\nj03\\nj03.\\nj03.9\\nj03.90\\ntonsillitis\\n...\n",
       "23     acute\\nj03\\nj03.\\nj03.9\\nj03.91\\nrecurrent\\nto...\n",
       "24                   acute\\nj04\\nj04.\\nj04.0\\nlaryngitis\n",
       "25           acute\\nj04\\nj04.\\nj04.1\\nj04.10\\ntracheitis\n",
       "26     acute\\nj04\\nj04.\\nj04.1\\nj04.11\\nobstruction\\n...\n",
       "27            acute\\nj04\\nj04.\\nj04.2\\nlaryngotracheitis\n",
       "28     j04\\nj04.\\nj04.3\\nj04.30\\nsupraglottitis\\nunsp...\n",
       "29     j04\\nj04.\\nj04.3\\nj04.31\\nobstruction\\nsupragl...\n",
       "                             ...                        \n",
       "306    acute\\ninjury\\nj95\\nj95.\\nj95.8\\nj95.84\\nlung\\...\n",
       "307    complication\\nj95\\nj95.\\nj95.8\\nj95.85\\nj95.85...\n",
       "308    associated\\nj95\\nj95.\\nj95.8\\nj95.85\\nj95.851\\...\n",
       "309    complication\\nj95\\nj95.\\nj95.8\\nj95.85\\nj95.85...\n",
       "310    classified\\ncomplications\\nelsewhere\\nintraope...\n",
       "311    classified\\ncomplications\\ndisorders\\nelsewher...\n",
       "312    acute\\nfailure\\nhypercapnia\\nhypoxia\\nj96\\nj96...\n",
       "313    acute\\nfailure\\nhypoxia\\nj96\\nj96.\\nj96.0\\nj96...\n",
       "314    acute\\nfailure\\nhypercapnia\\nj96\\nj96.\\nj96.0\\...\n",
       "315    chronic\\nfailure\\nhypercapnia\\nhypoxia\\nj96\\nj...\n",
       "316    chronic\\nfailure\\nhypoxia\\nj96\\nj96.\\nj96.1\\nj...\n",
       "317    chronic\\nfailure\\nhypercapnia\\nj96\\nj96.\\nj96....\n",
       "318    acute\\nchronic\\nfailure\\nhypercapnia\\nhypoxia\\...\n",
       "319    acute\\nchronic\\nfailure\\nhypoxia\\nj96\\nj96.\\nj...\n",
       "320    acute\\nchronic\\nfailure\\nhypercapnia\\nj96\\nj96...\n",
       "321    failure\\nhypercapnia\\nhypoxia\\nj96\\nj96.\\nj96....\n",
       "322    failure\\nhypoxia\\nj96\\nj96.\\nj96.9\\nj96.91\\nre...\n",
       "323    failure\\nhypercapnia\\nj96\\nj96.\\nj96.9\\nj96.92...\n",
       "324        acute\\nbronchospasm\\nj98\\nj98.\\nj98.0\\nj98.01\n",
       "325    bronchus\\nclassified\\ndiseases\\nelsewhere\\nj98...\n",
       "326                atelectasis\\nj98\\nj98.\\nj98.1\\nj98.11\n",
       "327    collapse\\nj98\\nj98.\\nj98.1\\nj98.19\\nother\\npul...\n",
       "328            emphysema\\ninterstitial\\nj98\\nj98.\\nj98.2\n",
       "329            compensatory\\nemphysema\\nj98\\nj98.\\nj98.3\n",
       "330             disorders\\nj98\\nj98.\\nj98.4\\nlung\\nother\n",
       "331    classified\\ndiseases\\nelsewhere\\nj98\\nj98.\\nj9...\n",
       "332               diaphragm\\ndisorders\\nj98\\nj98.\\nj98.6\n",
       "333    disorders\\nj98\\nj98.\\nj98.8\\nother\\nrespirator...\n",
       "334    disorder\\nj98\\nj98.\\nj98.9\\nrespiratory\\nunspe...\n",
       "335    classified\\ndiseases\\ndisorders\\nelsewhere\\nj9...\n",
       "Length: 336, dtype: object"
      ]
     },
     "execution_count": 8,
     "metadata": {},
     "output_type": "execute_result"
    }
   ],
   "source": [
    "icd.apply(write_snippet, axis=1)\n",
    "\n",
    "icd.apply(write_token, axis=1)\n"
   ]
  },
  {
   "cell_type": "code",
   "execution_count": null,
   "metadata": {},
   "outputs": [],
   "source": []
  }
 ],
 "metadata": {
  "kernelspec": {
   "display_name": "Python 3",
   "language": "python",
   "name": "python3"
  },
  "language_info": {
   "codemirror_mode": {
    "name": "ipython",
    "version": 3
   },
   "file_extension": ".py",
   "mimetype": "text/x-python",
   "name": "python",
   "nbconvert_exporter": "python",
   "pygments_lexer": "ipython3",
   "version": "3.6.1"
  }
 },
 "nbformat": 4,
 "nbformat_minor": 2
}
