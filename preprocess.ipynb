{
 "cells": [
  {
   "cell_type": "code",
   "execution_count": 2,
   "metadata": {},
   "outputs": [
    {
     "name": "stderr",
     "output_type": "stream",
     "text": [
      "/Users/jeroyang/.pyenv/versions/3.6.1/envs/cateye/lib/python3.6/site-packages/pandas/compat/__init__.py:85: UserWarning: Could not import the lzma module. Your installed Python is incomplete. Attempting to use lzma compression will result in a RuntimeError.\n",
      "  warnings.warn(msg)\n"
     ]
    }
   ],
   "source": [
    "import os\n",
    "import re\n",
    "from collections import defaultdict\n",
    "import pandas as pd\n",
    "from constants import *\n",
    "from cateye import gen_path, tokenize, lemmatize, clean, write_spelling, filterout"
   ]
  },
  {
   "cell_type": "code",
   "execution_count": 3,
   "metadata": {},
   "outputs": [],
   "source": [
    "icd = pd.read_csv('resource/ICD-10-subset.csv')"
   ]
  },
  {
   "cell_type": "code",
   "execution_count": 4,
   "metadata": {},
   "outputs": [],
   "source": [
    "def write_snippet(row):\n",
    "    namespace = row['namespace']\n",
    "    base = os.path.join('data', 'snippet')\n",
    "    code = row['code']\n",
    "    path = gen_path(base, code)\n",
    "    fn = code\n",
    "    fp = os.path.join(path, fn)\n",
    "    template = \"\"\"<h4 class=\"code\"><a>{}</a></h4><p class=\"name\">{}</p>\"\"\"\n",
    "    content = template.format(code, row['en_name'])\n",
    "    os.makedirs(path, exist_ok=True)\n",
    "    with open(fp, 'w') as f:\n",
    "        f.write(content)\n",
    "\n",
    "def derive_code(code, namespace):\n",
    "    if namespace == 'cm' and len(code) <= 3:\n",
    "        return [code[:3]]\n",
    "    \n",
    "    if namespace == 'pcs' and len(code) <= 2:\n",
    "        return [code[:2]]\n",
    "    \n",
    "    else:\n",
    "        return [code, *derive_code(code[:-1], namespace)]\n",
    "\n",
    "def write_hint(row):\n",
    "    namespace = row['namespace']\n",
    "    base = os.path.join('data', 'hint')\n",
    "    code = row['code']\n",
    "    path = gen_path(base, code)\n",
    "    fn = code\n",
    "    fp = os.path.join(path, fn)\n",
    "    \n",
    "    # Make content\n",
    "    raw_content = filterout(lemmatize(tokenize(clean(row['en_name']))))\n",
    "    content = '\\n'.join(raw_content)\n",
    "    \n",
    "    # Write to files\n",
    "    os.makedirs(path, exist_ok=True)\n",
    "    with open(fp, 'w') as f:\n",
    "        f.write(content)\n",
    "    return content\n",
    "    \n",
    "def write_token(row):\n",
    "    namespace = row['namespace']\n",
    "    base = os.path.join('data', 'token')\n",
    "    code = row['code']\n",
    "    path = gen_path(base, code)\n",
    "    fn = code\n",
    "    fp = os.path.join(path, fn)\n",
    "    \n",
    "    # Make content\n",
    "    \n",
    "    raw_content = derive_code(code, namespace)\n",
    "    raw_content.extend(tokenize(clean(row['en_name'])))    \n",
    "    content = [token.lower() for token in raw_content if token.lower() not in STOPWORDS]\n",
    "        \n",
    "    content = '\\n'.join(sorted(list(set(content))))\n",
    "    \n",
    "    os.makedirs(path, exist_ok=True)\n",
    "    with open(fp, 'w') as f:\n",
    "        f.write(content)\n",
    "        \n",
    "    return content\n"
   ]
  },
  {
   "cell_type": "code",
   "execution_count": 5,
   "metadata": {},
   "outputs": [],
   "source": [
    "!rm -rf data/snippet data/token data/hint"
   ]
  },
  {
   "cell_type": "code",
   "execution_count": 6,
   "metadata": {},
   "outputs": [],
   "source": [
    "!mkdir data/snippet; mkdir data/token; mkdir data/hint"
   ]
  },
  {
   "cell_type": "code",
   "execution_count": 7,
   "metadata": {},
   "outputs": [],
   "source": [
    "icd.apply(write_snippet, axis=1)\n",
    "icd.apply(write_hint, axis=1)\n",
    "icd.apply(write_token, axis=1)\n",
    "write_spelling(TOKEN_FOLDER, SPELLING_FILE)"
   ]
  },
  {
   "cell_type": "code",
   "execution_count": null,
   "metadata": {},
   "outputs": [],
   "source": []
  }
 ],
 "metadata": {
  "kernelspec": {
   "display_name": "Python 3",
   "language": "python",
   "name": "python3"
  },
  "language_info": {
   "codemirror_mode": {
    "name": "ipython",
    "version": 3
   },
   "file_extension": ".py",
   "mimetype": "text/x-python",
   "name": "python",
   "nbconvert_exporter": "python",
   "pygments_lexer": "ipython3",
   "version": "3.6.1"
  }
 },
 "nbformat": 4,
 "nbformat_minor": 2
}
