{
 "cells": [
  {
   "cell_type": "code",
   "execution_count": 1,
   "metadata": {},
   "outputs": [],
   "source": [
    "import cateye\n",
    "index = cateye.Shove('file://index')"
   ]
  },
  {
   "cell_type": "code",
   "execution_count": 2,
   "metadata": {},
   "outputs": [],
   "source": [
    "#index = cateye.invert_index('data/token', 'file://index')\n"
   ]
  },
  {
   "cell_type": "code",
   "execution_count": 7,
   "metadata": {},
   "outputs": [
    {
     "data": {
      "text/plain": [
       "[('B19.11', 'Unspecified viral hepatitis B with hepatic coma\\nB型病毒性肝炎伴有肝昏迷'),\n",
       " ('B96.6',\n",
       "  'Bacteroides fragilis [B. fragilis] as the cause of diseases classified elsewhere\\n歸類於他處脆性桿菌所致的疾病'),\n",
       " ('B16.9',\n",
       "  'Acute hepatitis B without delta-agent and without hepatic coma\\n急性B型病毒性肝炎未併D 型肝炎病毒未伴有肝昏迷'),\n",
       " ('B16.1',\n",
       "  'Acute hepatitis B with delta-agent without hepatic coma\\n急性B型病毒性肝炎併D 型肝炎病毒未伴有肝昏迷'),\n",
       " ('A01.2', 'Paratyphoid fever B\\nB型副傷寒'),\n",
       " ('B18.1',\n",
       "  'Chronic viral hepatitis B without delta-agent\\n慢性病毒性B型肝炎未伴有D 型肝炎病毒'),\n",
       " ('B19.10',\n",
       "  'Unspecified viral hepatitis B without hepatic coma\\nB型病毒性肝炎未伴有肝昏迷'),\n",
       " ('B18.0', 'Chronic viral hepatitis B with delta-agent\\n慢性病毒性B型肝炎伴有D 型肝炎病毒'),\n",
       " ('B95.1',\n",
       "  'Streptococcus, group B, as the cause of diseases classified elsewhere\\n歸類於他處B群鏈球菌所致的疾病'),\n",
       " ('B16.0',\n",
       "  'Acute hepatitis B with delta-agent with hepatic coma\\n急性B型病毒性肝炎併D 型肝炎病毒伴有肝昏迷'),\n",
       " ('A40.1', 'Sepsis due to streptococcus, group B\\nB型鏈球菌所致之敗血症'),\n",
       " ('B16.2',\n",
       "  'Acute hepatitis B without delta-agent with hepatic coma\\n急性B型病毒性肝炎未併D 型肝炎病毒伴有肝昏迷'),\n",
       " ('B17.0',\n",
       "  'Acute delta-(super) infection of hepatitis B carrier\\nＢ型肝炎帶原者之急性D 型肝炎病毒感染')]"
      ]
     },
     "execution_count": 7,
     "metadata": {},
     "output_type": "execute_result"
    }
   ],
   "source": [
    "code_list, snippets, tokens, hints, hint_scores, abbr_log, correct_log, fallback_log = cateye.search(index, 'b')\n",
    "list(zip(code_list, snippets))"
   ]
  },
  {
   "cell_type": "code",
   "execution_count": 8,
   "metadata": {
    "scrolled": true
   },
   "outputs": [
    {
     "data": {
      "text/plain": [
       "(['b'],\n",
       " ('acute',\n",
       "  'hepatitis',\n",
       "  'viral',\n",
       "  'delta',\n",
       "  'agent',\n",
       "  'hepatic',\n",
       "  'coma',\n",
       "  'streptococcus',\n",
       "  'group',\n",
       "  'classified'),\n",
       " [],\n",
       " [],\n",
       " [])"
      ]
     },
     "execution_count": 8,
     "metadata": {},
     "output_type": "execute_result"
    }
   ],
   "source": [
    " tokens, hints, abbr_log, correct_log, fallback_log"
   ]
  },
  {
   "cell_type": "code",
   "execution_count": 9,
   "metadata": {},
   "outputs": [
    {
     "data": {
      "text/plain": [
       "[('acute', 0.8571428571428572),\n",
       " ('hepatitis', 0.8571428571428571),\n",
       " ('viral', 0.7857142857142857),\n",
       " ('delta', 0.7857142857142857),\n",
       " ('agent', 0.7142857142857143),\n",
       " ('hepatic', 0.7142857142857143),\n",
       " ('coma', 0.7142857142857143),\n",
       " ('streptococcus', 0.6428571428571428),\n",
       " ('group', 0.6428571428571428),\n",
       " ('classified', 0.6428571428571428)]"
      ]
     },
     "execution_count": 9,
     "metadata": {},
     "output_type": "execute_result"
    }
   ],
   "source": [
    "list(zip(hints, hint_scores))"
   ]
  },
  {
   "cell_type": "code",
   "execution_count": 12,
   "metadata": {},
   "outputs": [
    {
     "data": {
      "text/plain": [
       "[('B19.11', 'Unspecified viral hepatitis B with hepatic coma\\nB型病毒性肝炎伴有肝昏迷'),\n",
       " ('B96.6',\n",
       "  'Bacteroides fragilis [B. fragilis] as the cause of diseases classified elsewhere\\n歸類於他處脆性桿菌所致的疾病'),\n",
       " ('B16.9',\n",
       "  'Acute hepatitis B without delta-agent and without hepatic coma\\n急性B型病毒性肝炎未併D 型肝炎病毒未伴有肝昏迷'),\n",
       " ('B16.1',\n",
       "  'Acute hepatitis B with delta-agent without hepatic coma\\n急性B型病毒性肝炎併D 型肝炎病毒未伴有肝昏迷'),\n",
       " ('A01.2', 'Paratyphoid fever B\\nB型副傷寒'),\n",
       " ('B18.1',\n",
       "  'Chronic viral hepatitis B without delta-agent\\n慢性病毒性B型肝炎未伴有D 型肝炎病毒'),\n",
       " ('B19.10',\n",
       "  'Unspecified viral hepatitis B without hepatic coma\\nB型病毒性肝炎未伴有肝昏迷'),\n",
       " ('B18.0', 'Chronic viral hepatitis B with delta-agent\\n慢性病毒性B型肝炎伴有D 型肝炎病毒'),\n",
       " ('B95.1',\n",
       "  'Streptococcus, group B, as the cause of diseases classified elsewhere\\n歸類於他處B群鏈球菌所致的疾病'),\n",
       " ('B16.0',\n",
       "  'Acute hepatitis B with delta-agent with hepatic coma\\n急性B型病毒性肝炎併D 型肝炎病毒伴有肝昏迷'),\n",
       " ('A40.1', 'Sepsis due to streptococcus, group B\\nB型鏈球菌所致之敗血症'),\n",
       " ('B16.2',\n",
       "  'Acute hepatitis B without delta-agent with hepatic coma\\n急性B型病毒性肝炎未併D 型肝炎病毒伴有肝昏迷'),\n",
       " ('B17.0',\n",
       "  'Acute delta-(super) infection of hepatitis B carrier\\nＢ型肝炎帶原者之急性D 型肝炎病毒感染')]"
      ]
     },
     "execution_count": 12,
     "metadata": {},
     "output_type": "execute_result"
    }
   ],
   "source": [
    "list(zip(code_list, snippets))"
   ]
  },
  {
   "cell_type": "code",
   "execution_count": 9,
   "metadata": {},
   "outputs": [
    {
     "data": {
      "text/plain": [
       "['hepatitis', 'b', 'viral']"
      ]
     },
     "execution_count": 9,
     "metadata": {},
     "output_type": "execute_result"
    }
   ],
   "source": [
    "tokens"
   ]
  },
  {
   "cell_type": "code",
   "execution_count": 19,
   "metadata": {},
   "outputs": [
    {
     "name": "stdout",
     "output_type": "stream",
     "text": [
      "<div class=\"ui-widget\">\n",
      "  \n",
      "\n",
      "  \n",
      "\n",
      "  \n",
      "  <div id=\"hints\" class=\"ui-state-highlight ui-corner-all alert alert-info\">\n",
      "    Hint\n",
      "    <ul class=\"list-inline\">\n",
      "      <li class=\"hint list\"><a><strong>hepatitis</strong></a></li><li class=\"hint list\"><a><strong>poliomyelitis</strong></a></li><li class=\"hint list\"><a><strong>B</strong></a></li><li class=\"hint list\"><a><strong>paralytic</strong></a></li><li class=\"hint list\"><a><strong>acute</strong></a></li><li class=\"hint list\"><a><strong>hepatic</strong></a></li>\n",
      "      <li class=\"hint list visible-md-inline visible-lg-inline\"><a><strong>coma</strong></a></li><li class=\"hint list visible-md-inline visible-lg-inline\"><a><strong>miliary</strong></a></li><li class=\"hint list visible-md-inline visible-lg-inline\"><a><strong>tuberculosis</strong></a></li><li class=\"hint list visible-md-inline visible-lg-inline\"><a><strong>pulmonary</strong></a></li>\n",
      "      \n",
      "    </ul>\n",
      "  </div>\n",
      "  \n",
      "</div>\n",
      "\n",
      "\n",
      "</div>\n",
      "\n",
      "\n",
      "<div id=\"count\">\n",
      "  <p><strong>0</strong> result(s)</p>\n",
      "</div>\n",
      "\n",
      "\n",
      "  <div id=results>\n",
      "    <ol style=\"padding-left:35px;\">\n",
      "      <li class=\"result\">\n",
      "          <h4 class=\"code \"><a>A80.30</a></h3>\n",
      "          <p class=\"name\">Acute paralytic poliomyelitis, unspecified\n",
      "急性麻痺性脊髓灰白質炎</p>\n",
      "      </li><li class=\"result\">\n",
      "          <h4 class=\"code \"><a>B25.2</a></h3>\n",
      "          <p class=\"name\">Cytomegaloviral pancreatitis\n",
      "巨細胞病毒性胰臟炎</p>\n",
      "      </li><li class=\"result\">\n",
      "          <h4 class=\"code \"><a>B91</a></h3>\n",
      "          <p class=\"name\">Sequelae of poliomyelitis\n",
      "脊髓灰白質炎之後遺症</p>\n",
      "      </li><li class=\"result\">\n",
      "          <h4 class=\"code \"><a>B17.2</a></h3>\n",
      "          <p class=\"name\">Acute hepatitis E\n",
      "急性E型肝炎</p>\n",
      "      </li><li class=\"result\">\n",
      "          <h4 class=\"code \"><a>B17.9</a></h3>\n",
      "          <p class=\"name\">Acute viral hepatitis, unspecified\n",
      "急性病毒性肝炎</p>\n",
      "      </li><li class=\"result\">\n",
      "          <h4 class=\"code \"><a>A80.39</a></h3>\n",
      "          <p class=\"name\">Other acute paralytic poliomyelitis\n",
      "其他急性麻痺脊髓灰白質炎</p>\n",
      "      </li><li class=\"result\">\n",
      "          <h4 class=\"code \"><a>B17.10</a></h3>\n",
      "          <p class=\"name\">Acute hepatitis C without hepatic coma\n",
      "急性C型病毒性肝炎未伴有肝昏迷</p>\n",
      "      </li><li class=\"result\">\n",
      "          <h4 class=\"code \"><a>A06.0</a></h3>\n",
      "          <p class=\"name\">Acute amebic dysentery\n",
      "急性阿米巴性痢疾</p>\n",
      "      </li><li class=\"result\">\n",
      "          <h4 class=\"code \"><a>B40.0</a></h3>\n",
      "          <p class=\"name\">Acute pulmonary blastomycosis\n",
      "急性肺芽生黴菌病</p>\n",
      "      </li><li class=\"result\">\n",
      "          <h4 class=\"code \"><a>B17.8</a></h3>\n",
      "          <p class=\"name\">Other specified acute viral hepatitis\n",
      "其他特定急性病毒性肝炎</p>\n",
      "      </li><li class=\"result\">\n",
      "          <h4 class=\"code \"><a>B39.0</a></h3>\n",
      "          <p class=\"name\">Acute pulmonary histoplasmosis capsulati\n",
      "急性肺莢膜組織胞漿菌病</p>\n",
      "      </li><li class=\"result\">\n",
      "          <h4 class=\"code \"><a>B16.9</a></h3>\n",
      "          <p class=\"name\">Acute hepatitis B without delta-agent and without hepatic coma\n",
      "急性B型病毒性肝炎未併D 型肝炎病毒未伴有肝昏迷</p>\n",
      "      </li><li class=\"result\">\n",
      "          <h4 class=\"code \"><a>A08.19</a></h3>\n",
      "          <p class=\"name\">Acute gastroenteropathy due to other small round viruses\n",
      "小型球型病毒所致之急性胃腸病變</p>\n",
      "      </li><li class=\"result\">\n",
      "          <h4 class=\"code \"><a>B17.0</a></h3>\n",
      "          <p class=\"name\">Acute delta-(super) infection of hepatitis B carrier\n",
      "Ｂ型肝炎帶原者之急性D 型肝炎病毒感染</p>\n",
      "      </li><li class=\"result\">\n",
      "          <h4 class=\"code \"><a>A80.1</a></h3>\n",
      "          <p class=\"name\">Acute paralytic poliomyelitis, wild virus, imported\n",
      "急性麻痺性脊髓灰白質炎，野生型病毒，移入性</p>\n",
      "      </li><li class=\"result\">\n",
      "          <h4 class=\"code \"><a>B16.2</a></h3>\n",
      "          <p class=\"name\">Acute hepatitis B without delta-agent with hepatic coma\n",
      "急性B型病毒性肝炎未併D 型肝炎病毒伴有肝昏迷</p>\n",
      "      </li><li class=\"result\">\n",
      "          <h4 class=\"code \"><a>A80.0</a></h3>\n",
      "          <p class=\"name\">Acute paralytic poliomyelitis, vaccine-associated\n",
      "急性麻痺性脊髓灰白質炎，與疫苗相關者</p>\n",
      "      </li><li class=\"result\">\n",
      "          <h4 class=\"code \"><a>A19.0</a></h3>\n",
      "          <p class=\"name\">Acute miliary tuberculosis of a single specified site\n",
      "單一部位之急性粟粒性結核</p>\n",
      "      </li><li class=\"result\">\n",
      "          <h4 class=\"code \"><a>A19.1</a></h3>\n",
      "          <p class=\"name\">Acute miliary tuberculosis of multiple sites\n",
      "多重(發)部位之急性粟粒性結核</p>\n",
      "      </li><li class=\"result\">\n",
      "          <h4 class=\"code \"><a>A08.11</a></h3>\n",
      "          <p class=\"name\">Acute gastroenteropathy due to Norwalk agent\n",
      "類諾瓦克病毒所致之急性胃腸病變</p>\n",
      "      </li><li class=\"result\">\n",
      "          <h4 class=\"code \"><a>B57.1</a></h3>\n",
      "          <p class=\"name\">Acute Chagas&#39; disease without heart involvement\n",
      "急性Chagas病未伴有侵犯心臟</p>\n",
      "      </li><li class=\"result\">\n",
      "          <h4 class=\"code \"><a>A19.2</a></h3>\n",
      "          <p class=\"name\">Acute miliary tuberculosis, unspecified\n",
      "急性粟粒狀結核</p>\n",
      "      </li><li class=\"result\">\n",
      "          <h4 class=\"code \"><a>A80.2</a></h3>\n",
      "          <p class=\"name\">Acute paralytic poliomyelitis, wild virus, indigenous\n",
      "急性麻痺性脊髓灰白質炎，野生型病毒，本土性</p>\n",
      "      </li><li class=\"result\">\n",
      "          <h4 class=\"code \"><a>A39.2</a></h3>\n",
      "          <p class=\"name\">Acute meningococcemia\n",
      "急性腦膜炎球菌菌血症</p>\n",
      "      </li><li class=\"result\">\n",
      "          <h4 class=\"code \"><a>B38.0</a></h3>\n",
      "          <p class=\"name\">Acute pulmonary coccidioidomycosis\n",
      "急性肺球黴菌病</p>\n",
      "      </li><li class=\"result\">\n",
      "          <h4 class=\"code \"><a>B16.0</a></h3>\n",
      "          <p class=\"name\">Acute hepatitis B with delta-agent with hepatic coma\n",
      "急性B型病毒性肝炎併D 型肝炎病毒伴有肝昏迷</p>\n",
      "      </li><li class=\"result\">\n",
      "          <h4 class=\"code \"><a>B17.11</a></h3>\n",
      "          <p class=\"name\">Acute hepatitis C with hepatic coma\n",
      "急性C型病毒性肝炎伴有肝昏迷</p>\n",
      "      </li><li class=\"result\">\n",
      "          <h4 class=\"code \"><a>A24.1</a></h3>\n",
      "          <p class=\"name\">Acute and fulminating melioidosis\n",
      "急性及猛爆型類鼻疽病</p>\n",
      "      </li><li class=\"result\">\n",
      "          <h4 class=\"code \"><a>B30.3</a></h3>\n",
      "          <p class=\"name\">Acute epidemic hemorrhagic conjunctivitis (enteroviral)\n",
      "急性流行性出血性結膜炎</p>\n",
      "      </li><li class=\"result\">\n",
      "          <h4 class=\"code \"><a>A80.4</a></h3>\n",
      "          <p class=\"name\">Acute nonparalytic poliomyelitis\n",
      "急性非麻痺性脊髓灰白質炎</p>\n",
      "      </li><li class=\"result\">\n",
      "          <h4 class=\"code \"><a>B57.0</a></h3>\n",
      "          <p class=\"name\">Acute Chagas&#39; disease with heart involvement\n",
      "急性Chagas病侵犯心臟</p>\n",
      "      </li><li class=\"result\">\n",
      "          <h4 class=\"code \"><a>A80.9</a></h3>\n",
      "          <p class=\"name\">Acute poliomyelitis, unspecified\n",
      "急性脊髓灰白質炎</p>\n",
      "      </li><li class=\"result\">\n",
      "          <h4 class=\"code \"><a>B19.11</a></h3>\n",
      "          <p class=\"name\">Unspecified viral hepatitis B with hepatic coma\n",
      "B型病毒性肝炎伴有肝昏迷</p>\n",
      "      </li><li class=\"result\">\n",
      "          <h4 class=\"code \"><a>B16.1</a></h3>\n",
      "          <p class=\"name\">Acute hepatitis B with delta-agent without hepatic coma\n",
      "急性B型病毒性肝炎併D 型肝炎病毒未伴有肝昏迷</p>\n",
      "      </li>\n",
      "    </ol>\n",
      "  </div>\n",
      "\n"
     ]
    }
   ],
   "source": [
    "print(\"<div class=\\\"ui-widget\\\">\\n  \\n\\n  \\n\\n  \\n  <div id=\\\"hints\\\" class=\\\"ui-state-highlight ui-corner-all alert alert-info\\\">\\n    Hint\\n    <ul class=\\\"list-inline\\\">\\n      <li class=\\\"hint list\\\"><a><strong>hepatitis</strong></a></li><li class=\\\"hint list\\\"><a><strong>poliomyelitis</strong></a></li><li class=\\\"hint list\\\"><a><strong>B</strong></a></li><li class=\\\"hint list\\\"><a><strong>paralytic</strong></a></li><li class=\\\"hint list\\\"><a><strong>acute</strong></a></li><li class=\\\"hint list\\\"><a><strong>hepatic</strong></a></li>\\n      <li class=\\\"hint list visible-md-inline visible-lg-inline\\\"><a><strong>coma</strong></a></li><li class=\\\"hint list visible-md-inline visible-lg-inline\\\"><a><strong>miliary</strong></a></li><li class=\\\"hint list visible-md-inline visible-lg-inline\\\"><a><strong>tuberculosis</strong></a></li><li class=\\\"hint list visible-md-inline visible-lg-inline\\\"><a><strong>pulmonary</strong></a></li>\\n      \\n    </ul>\\n  </div>\\n  \\n</div>\\n\\n\\n</div>\\n\\n\\n<div id=\\\"count\\\">\\n  <p><strong>0</strong> result(s)</p>\\n</div>\\n\\n\\n  <div id=results>\\n    <ol style=\\\"padding-left:35px;\\\">\\n      <li class=\\\"result\\\">\\n          <h4 class=\\\"code \\\"><a>A80.30</a></h3>\\n          <p class=\\\"name\\\">Acute paralytic poliomyelitis, unspecified\\n\\u6025\\u6027\\u9ebb\\u75fa\\u6027\\u810a\\u9ad3\\u7070\\u767d\\u8cea\\u708e</p>\\n      </li><li class=\\\"result\\\">\\n          <h4 class=\\\"code \\\"><a>B25.2</a></h3>\\n          <p class=\\\"name\\\">Cytomegaloviral pancreatitis\\n\\u5de8\\u7d30\\u80de\\u75c5\\u6bd2\\u6027\\u80f0\\u81df\\u708e</p>\\n      </li><li class=\\\"result\\\">\\n          <h4 class=\\\"code \\\"><a>B91</a></h3>\\n          <p class=\\\"name\\\">Sequelae of poliomyelitis\\n\\u810a\\u9ad3\\u7070\\u767d\\u8cea\\u708e\\u4e4b\\u5f8c\\u907a\\u75c7</p>\\n      </li><li class=\\\"result\\\">\\n          <h4 class=\\\"code \\\"><a>B17.2</a></h3>\\n          <p class=\\\"name\\\">Acute hepatitis E\\n\\u6025\\u6027E\\u578b\\u809d\\u708e</p>\\n      </li><li class=\\\"result\\\">\\n          <h4 class=\\\"code \\\"><a>B17.9</a></h3>\\n          <p class=\\\"name\\\">Acute viral hepatitis, unspecified\\n\\u6025\\u6027\\u75c5\\u6bd2\\u6027\\u809d\\u708e</p>\\n      </li><li class=\\\"result\\\">\\n          <h4 class=\\\"code \\\"><a>A80.39</a></h3>\\n          <p class=\\\"name\\\">Other acute paralytic poliomyelitis\\n\\u5176\\u4ed6\\u6025\\u6027\\u9ebb\\u75fa\\u810a\\u9ad3\\u7070\\u767d\\u8cea\\u708e</p>\\n      </li><li class=\\\"result\\\">\\n          <h4 class=\\\"code \\\"><a>B17.10</a></h3>\\n          <p class=\\\"name\\\">Acute hepatitis C without hepatic coma\\n\\u6025\\u6027C\\u578b\\u75c5\\u6bd2\\u6027\\u809d\\u708e\\u672a\\u4f34\\u6709\\u809d\\u660f\\u8ff7</p>\\n      </li><li class=\\\"result\\\">\\n          <h4 class=\\\"code \\\"><a>A06.0</a></h3>\\n          <p class=\\\"name\\\">Acute amebic dysentery\\n\\u6025\\u6027\\u963f\\u7c73\\u5df4\\u6027\\u75e2\\u75be</p>\\n      </li><li class=\\\"result\\\">\\n          <h4 class=\\\"code \\\"><a>B40.0</a></h3>\\n          <p class=\\\"name\\\">Acute pulmonary blastomycosis\\n\\u6025\\u6027\\u80ba\\u82bd\\u751f\\u9ef4\\u83cc\\u75c5</p>\\n      </li><li class=\\\"result\\\">\\n          <h4 class=\\\"code \\\"><a>B17.8</a></h3>\\n          <p class=\\\"name\\\">Other specified acute viral hepatitis\\n\\u5176\\u4ed6\\u7279\\u5b9a\\u6025\\u6027\\u75c5\\u6bd2\\u6027\\u809d\\u708e</p>\\n      </li><li class=\\\"result\\\">\\n          <h4 class=\\\"code \\\"><a>B39.0</a></h3>\\n          <p class=\\\"name\\\">Acute pulmonary histoplasmosis capsulati\\n\\u6025\\u6027\\u80ba\\u83a2\\u819c\\u7d44\\u7e54\\u80de\\u6f3f\\u83cc\\u75c5</p>\\n      </li><li class=\\\"result\\\">\\n          <h4 class=\\\"code \\\"><a>B16.9</a></h3>\\n          <p class=\\\"name\\\">Acute hepatitis B without delta-agent and without hepatic coma\\n\\u6025\\u6027B\\u578b\\u75c5\\u6bd2\\u6027\\u809d\\u708e\\u672a\\u4f75D \\u578b\\u809d\\u708e\\u75c5\\u6bd2\\u672a\\u4f34\\u6709\\u809d\\u660f\\u8ff7</p>\\n      </li><li class=\\\"result\\\">\\n          <h4 class=\\\"code \\\"><a>A08.19</a></h3>\\n          <p class=\\\"name\\\">Acute gastroenteropathy due to other small round viruses\\n\\u5c0f\\u578b\\u7403\\u578b\\u75c5\\u6bd2\\u6240\\u81f4\\u4e4b\\u6025\\u6027\\u80c3\\u8178\\u75c5\\u8b8a</p>\\n      </li><li class=\\\"result\\\">\\n          <h4 class=\\\"code \\\"><a>B17.0</a></h3>\\n          <p class=\\\"name\\\">Acute delta-(super) infection of hepatitis B carrier\\n\\uff22\\u578b\\u809d\\u708e\\u5e36\\u539f\\u8005\\u4e4b\\u6025\\u6027D \\u578b\\u809d\\u708e\\u75c5\\u6bd2\\u611f\\u67d3</p>\\n      </li><li class=\\\"result\\\">\\n          <h4 class=\\\"code \\\"><a>A80.1</a></h3>\\n          <p class=\\\"name\\\">Acute paralytic poliomyelitis, wild virus, imported\\n\\u6025\\u6027\\u9ebb\\u75fa\\u6027\\u810a\\u9ad3\\u7070\\u767d\\u8cea\\u708e\\uff0c\\u91ce\\u751f\\u578b\\u75c5\\u6bd2\\uff0c\\u79fb\\u5165\\u6027</p>\\n      </li><li class=\\\"result\\\">\\n          <h4 class=\\\"code \\\"><a>B16.2</a></h3>\\n          <p class=\\\"name\\\">Acute hepatitis B without delta-agent with hepatic coma\\n\\u6025\\u6027B\\u578b\\u75c5\\u6bd2\\u6027\\u809d\\u708e\\u672a\\u4f75D \\u578b\\u809d\\u708e\\u75c5\\u6bd2\\u4f34\\u6709\\u809d\\u660f\\u8ff7</p>\\n      </li><li class=\\\"result\\\">\\n          <h4 class=\\\"code \\\"><a>A80.0</a></h3>\\n          <p class=\\\"name\\\">Acute paralytic poliomyelitis, vaccine-associated\\n\\u6025\\u6027\\u9ebb\\u75fa\\u6027\\u810a\\u9ad3\\u7070\\u767d\\u8cea\\u708e\\uff0c\\u8207\\u75ab\\u82d7\\u76f8\\u95dc\\u8005</p>\\n      </li><li class=\\\"result\\\">\\n          <h4 class=\\\"code \\\"><a>A19.0</a></h3>\\n          <p class=\\\"name\\\">Acute miliary tuberculosis of a single specified site\\n\\u55ae\\u4e00\\u90e8\\u4f4d\\u4e4b\\u6025\\u6027\\u7c9f\\u7c92\\u6027\\u7d50\\u6838</p>\\n      </li><li class=\\\"result\\\">\\n          <h4 class=\\\"code \\\"><a>A19.1</a></h3>\\n          <p class=\\\"name\\\">Acute miliary tuberculosis of multiple sites\\n\\u591a\\u91cd(\\u767c)\\u90e8\\u4f4d\\u4e4b\\u6025\\u6027\\u7c9f\\u7c92\\u6027\\u7d50\\u6838</p>\\n      </li><li class=\\\"result\\\">\\n          <h4 class=\\\"code \\\"><a>A08.11</a></h3>\\n          <p class=\\\"name\\\">Acute gastroenteropathy due to Norwalk agent\\n\\u985e\\u8afe\\u74e6\\u514b\\u75c5\\u6bd2\\u6240\\u81f4\\u4e4b\\u6025\\u6027\\u80c3\\u8178\\u75c5\\u8b8a</p>\\n      </li><li class=\\\"result\\\">\\n          <h4 class=\\\"code \\\"><a>B57.1</a></h3>\\n          <p class=\\\"name\\\">Acute Chagas&#39; disease without heart involvement\\n\\u6025\\u6027Chagas\\u75c5\\u672a\\u4f34\\u6709\\u4fb5\\u72af\\u5fc3\\u81df</p>\\n      </li><li class=\\\"result\\\">\\n          <h4 class=\\\"code \\\"><a>A19.2</a></h3>\\n          <p class=\\\"name\\\">Acute miliary tuberculosis, unspecified\\n\\u6025\\u6027\\u7c9f\\u7c92\\u72c0\\u7d50\\u6838</p>\\n      </li><li class=\\\"result\\\">\\n          <h4 class=\\\"code \\\"><a>A80.2</a></h3>\\n          <p class=\\\"name\\\">Acute paralytic poliomyelitis, wild virus, indigenous\\n\\u6025\\u6027\\u9ebb\\u75fa\\u6027\\u810a\\u9ad3\\u7070\\u767d\\u8cea\\u708e\\uff0c\\u91ce\\u751f\\u578b\\u75c5\\u6bd2\\uff0c\\u672c\\u571f\\u6027</p>\\n      </li><li class=\\\"result\\\">\\n          <h4 class=\\\"code \\\"><a>A39.2</a></h3>\\n          <p class=\\\"name\\\">Acute meningococcemia\\n\\u6025\\u6027\\u8166\\u819c\\u708e\\u7403\\u83cc\\u83cc\\u8840\\u75c7</p>\\n      </li><li class=\\\"result\\\">\\n          <h4 class=\\\"code \\\"><a>B38.0</a></h3>\\n          <p class=\\\"name\\\">Acute pulmonary coccidioidomycosis\\n\\u6025\\u6027\\u80ba\\u7403\\u9ef4\\u83cc\\u75c5</p>\\n      </li><li class=\\\"result\\\">\\n          <h4 class=\\\"code \\\"><a>B16.0</a></h3>\\n          <p class=\\\"name\\\">Acute hepatitis B with delta-agent with hepatic coma\\n\\u6025\\u6027B\\u578b\\u75c5\\u6bd2\\u6027\\u809d\\u708e\\u4f75D \\u578b\\u809d\\u708e\\u75c5\\u6bd2\\u4f34\\u6709\\u809d\\u660f\\u8ff7</p>\\n      </li><li class=\\\"result\\\">\\n          <h4 class=\\\"code \\\"><a>B17.11</a></h3>\\n          <p class=\\\"name\\\">Acute hepatitis C with hepatic coma\\n\\u6025\\u6027C\\u578b\\u75c5\\u6bd2\\u6027\\u809d\\u708e\\u4f34\\u6709\\u809d\\u660f\\u8ff7</p>\\n      </li><li class=\\\"result\\\">\\n          <h4 class=\\\"code \\\"><a>A24.1</a></h3>\\n          <p class=\\\"name\\\">Acute and fulminating melioidosis\\n\\u6025\\u6027\\u53ca\\u731b\\u7206\\u578b\\u985e\\u9f3b\\u75bd\\u75c5</p>\\n      </li><li class=\\\"result\\\">\\n          <h4 class=\\\"code \\\"><a>B30.3</a></h3>\\n          <p class=\\\"name\\\">Acute epidemic hemorrhagic conjunctivitis (enteroviral)\\n\\u6025\\u6027\\u6d41\\u884c\\u6027\\u51fa\\u8840\\u6027\\u7d50\\u819c\\u708e</p>\\n      </li><li class=\\\"result\\\">\\n          <h4 class=\\\"code \\\"><a>A80.4</a></h3>\\n          <p class=\\\"name\\\">Acute nonparalytic poliomyelitis\\n\\u6025\\u6027\\u975e\\u9ebb\\u75fa\\u6027\\u810a\\u9ad3\\u7070\\u767d\\u8cea\\u708e</p>\\n      </li><li class=\\\"result\\\">\\n          <h4 class=\\\"code \\\"><a>B57.0</a></h3>\\n          <p class=\\\"name\\\">Acute Chagas&#39; disease with heart involvement\\n\\u6025\\u6027Chagas\\u75c5\\u4fb5\\u72af\\u5fc3\\u81df</p>\\n      </li><li class=\\\"result\\\">\\n          <h4 class=\\\"code \\\"><a>A80.9</a></h3>\\n          <p class=\\\"name\\\">Acute poliomyelitis, unspecified\\n\\u6025\\u6027\\u810a\\u9ad3\\u7070\\u767d\\u8cea\\u708e</p>\\n      </li><li class=\\\"result\\\">\\n          <h4 class=\\\"code \\\"><a>B19.11</a></h3>\\n          <p class=\\\"name\\\">Unspecified viral hepatitis B with hepatic coma\\nB\\u578b\\u75c5\\u6bd2\\u6027\\u809d\\u708e\\u4f34\\u6709\\u809d\\u660f\\u8ff7</p>\\n      </li><li class=\\\"result\\\">\\n          <h4 class=\\\"code \\\"><a>B16.1</a></h3>\\n          <p class=\\\"name\\\">Acute hepatitis B with delta-agent without hepatic coma\\n\\u6025\\u6027B\\u578b\\u75c5\\u6bd2\\u6027\\u809d\\u708e\\u4f75D \\u578b\\u809d\\u708e\\u75c5\\u6bd2\\u672a\\u4f34\\u6709\\u809d\\u660f\\u8ff7</p>\\n      </li>\\n    </ol>\\n  </div>\\n\")"
   ]
  },
  {
   "cell_type": "code",
   "execution_count": 29,
   "metadata": {},
   "outputs": [],
   "source": [
    "import cateye\n",
    "from cateye import *\n",
    "\n",
    "the_index = cateye.Shove('file://index')\n"
   ]
  },
  {
   "cell_type": "code",
   "execution_count": 30,
   "metadata": {},
   "outputs": [],
   "source": [
    "query = 'acute'\n",
    "tokens = tokenize(query)\n",
    "tokens, abbr_log = abbr_expand(tokens)\n",
    "tokens, correct_log = correct(tokens)"
   ]
  },
  {
   "cell_type": "code",
   "execution_count": 32,
   "metadata": {},
   "outputs": [],
   "source": [
    "tokens = lemmalize(tokens)\n",
    "tokens = filterout(tokens)"
   ]
  },
  {
   "cell_type": "code",
   "execution_count": 33,
   "metadata": {},
   "outputs": [
    {
     "data": {
      "text/plain": [
       "['acute']"
      ]
     },
     "execution_count": 33,
     "metadata": {},
     "output_type": "execute_result"
    }
   ],
   "source": [
    "tokens"
   ]
  },
  {
   "cell_type": "code",
   "execution_count": 34,
   "metadata": {},
   "outputs": [],
   "source": [
    "code_list = fetch(the_index, tokens)"
   ]
  },
  {
   "cell_type": "code",
   "execution_count": 39,
   "metadata": {},
   "outputs": [],
   "source": [
    "code_list\n",
    "snippets = get_snippets(code_list, SNIPPET_FOLDER)"
   ]
  },
  {
   "cell_type": "code",
   "execution_count": 40,
   "metadata": {},
   "outputs": [],
   "source": [
    "code_list\n",
    "k=10\n",
    "hint_folder=HINT_FOLDER"
   ]
  },
  {
   "cell_type": "code",
   "execution_count": 57,
   "metadata": {},
   "outputs": [],
   "source": [
    "def hint_score(v, size):\n",
    "    \"\"\"\n",
    "    The formula for hint score\n",
    "    \"\"\"\n",
    "    return 1.0 - abs(v / (size + 1) - 0.5)\n",
    "\n",
    "size = min(len(code_list), MAX_HINT_SMAPLING_SIZE)\n",
    "sample = random.sample(code_list, size)\n",
    "hint_list = []\n",
    "capital_dict = {}\n",
    "\n",
    "for code in sample:\n",
    "    path = gen_path(hint_folder, code)\n",
    "    fp = os.path.join(path, code)\n",
    "    with open(fp) as f:\n",
    "        hints = set(f.read().strip().split('\\n'))\n",
    "        hint_list.extend([h.lower() for h in hints])\n",
    "        capital_dict.update({hint.lower(): hint for hint in hints})\n",
    "document_freq = Counter(hint_list)\n",
    "score = [(capital_dict[k], hint_score(v, size)) for k, v in document_freq.items() if v < size]"
   ]
  },
  {
   "cell_type": "code",
   "execution_count": 62,
   "metadata": {},
   "outputs": [
    {
     "ename": "NameError",
     "evalue": "name 'acute' is not defined",
     "output_type": "error",
     "traceback": [
      "\u001b[0;31m---------------------------------------------------------------------------\u001b[0m",
      "\u001b[0;31mNameError\u001b[0m                                 Traceback (most recent call last)",
      "\u001b[0;32m<ipython-input-62-cab69918de4e>\u001b[0m in \u001b[0;36m<module>\u001b[0;34m\u001b[0m\n\u001b[0;32m----> 1\u001b[0;31m \u001b[0macute\u001b[0m\u001b[0;34m\u001b[0m\u001b[0m\n\u001b[0m",
      "\u001b[0;31mNameError\u001b[0m: name 'acute' is not defined"
     ]
    }
   ],
   "source": [
    "document_freq['acute']"
   ]
  },
  {
   "cell_type": "code",
   "execution_count": 48,
   "metadata": {},
   "outputs": [],
   "source": [
    "for code in sample:\n",
    "    path = gen_path(hint_folder, code)\n",
    "    fp = os.path.join(path, code)\n",
    "    with open(fp) as f:\n",
    "        hints = f.read().strip().split('\\n')\n",
    "        hint_list.extend([h.lower() for h in hints])\n",
    "        capital_dict.update({hint.lower(): hint for hint in hints})"
   ]
  },
  {
   "cell_type": "code",
   "execution_count": 54,
   "metadata": {},
   "outputs": [],
   "source": [
    "document_freq = Counter(hint_list)"
   ]
  },
  {
   "cell_type": "code",
   "execution_count": 55,
   "metadata": {},
   "outputs": [
    {
     "data": {
      "text/plain": [
       "62"
      ]
     },
     "execution_count": 55,
     "metadata": {},
     "output_type": "execute_result"
    }
   ],
   "source": [
    "document_freq['acute']"
   ]
  },
  {
   "cell_type": "code",
   "execution_count": 56,
   "metadata": {},
   "outputs": [
    {
     "data": {
      "text/plain": [
       "34"
      ]
     },
     "execution_count": 56,
     "metadata": {},
     "output_type": "execute_result"
    }
   ],
   "source": []
  },
  {
   "cell_type": "code",
   "execution_count": 53,
   "metadata": {},
   "outputs": [
    {
     "ename": "NameError",
     "evalue": "name 'document_freq' is not defined",
     "output_type": "error",
     "traceback": [
      "\u001b[0;31m---------------------------------------------------------------------------\u001b[0m",
      "\u001b[0;31mNameError\u001b[0m                                 Traceback (most recent call last)",
      "\u001b[0;32m<ipython-input-53-50931f67c505>\u001b[0m in \u001b[0;36m<module>\u001b[0;34m\u001b[0m\n\u001b[0;32m----> 1\u001b[0;31m \u001b[0mscore\u001b[0m \u001b[0;34m=\u001b[0m \u001b[0;34m[\u001b[0m\u001b[0;34m(\u001b[0m\u001b[0mcapital_dict\u001b[0m\u001b[0;34m[\u001b[0m\u001b[0mk\u001b[0m\u001b[0;34m]\u001b[0m\u001b[0;34m,\u001b[0m \u001b[0mhint_score\u001b[0m\u001b[0;34m(\u001b[0m\u001b[0mv\u001b[0m\u001b[0;34m,\u001b[0m \u001b[0msize\u001b[0m\u001b[0;34m)\u001b[0m\u001b[0;34m)\u001b[0m \u001b[0;32mfor\u001b[0m \u001b[0mk\u001b[0m\u001b[0;34m,\u001b[0m \u001b[0mv\u001b[0m \u001b[0;32min\u001b[0m \u001b[0mdocument_freq\u001b[0m\u001b[0;34m.\u001b[0m\u001b[0mitems\u001b[0m\u001b[0;34m(\u001b[0m\u001b[0;34m)\u001b[0m \u001b[0;32mif\u001b[0m \u001b[0mv\u001b[0m \u001b[0;34m<\u001b[0m \u001b[0msize\u001b[0m\u001b[0;34m]\u001b[0m\u001b[0;34m\u001b[0m\u001b[0m\n\u001b[0m",
      "\u001b[0;31mNameError\u001b[0m: name 'document_freq' is not defined"
     ]
    }
   ],
   "source": [
    "score = [(capital_dict[k], hint_score(v, size)) for k, v in document_freq.items() if v < size]"
   ]
  },
  {
   "cell_type": "code",
   "execution_count": 43,
   "metadata": {},
   "outputs": [
    {
     "data": {
      "text/plain": [
       "{'acute': 'acute',\n",
       " 'miliary': 'miliary',\n",
       " 'tuberculosis': 'tuberculosis',\n",
       " 'multiple': 'multiple',\n",
       " 'viral': 'viral',\n",
       " 'hepatitis': 'hepatitis',\n",
       " 'b': 'b',\n",
       " 'chagas': 'chagas',\n",
       " 'heart': 'heart',\n",
       " 'paralytic': 'paralytic',\n",
       " 'poliomyelitis': 'poliomyelitis',\n",
       " 'hepatic': 'hepatic',\n",
       " 'coma': 'coma',\n",
       " 'a': 'a',\n",
       " 'single': 'single',\n",
       " 'vaccine': 'vaccine',\n",
       " 'associated': 'associated',\n",
       " 'pulmonary': 'pulmonary',\n",
       " 'blastomycosis': 'blastomycosis',\n",
       " 'amebic': 'amebic',\n",
       " 'dysentery': 'dysentery',\n",
       " 'coccidioidomycosis': 'coccidioidomycosis',\n",
       " 'fulminating': 'fulminating',\n",
       " 'melioidosis': 'melioidosis',\n",
       " 'epidemic': 'epidemic',\n",
       " 'hemorrhagic': 'hemorrhagic',\n",
       " 'conjunctivitis': 'conjunctivitis',\n",
       " 'enteroviral': 'enteroviral',\n",
       " 'cytomegaloviral': 'cytomegaloviral',\n",
       " 'pancreatitis': 'pancreatitis',\n",
       " 'e': 'e',\n",
       " 'wild': 'wild',\n",
       " 'virus': 'virus',\n",
       " 'indigenous': 'indigenous',\n",
       " 'delta': 'delta',\n",
       " 'agent': 'agent',\n",
       " 'histoplasmosis': 'histoplasmosis',\n",
       " 'capsulati': 'capsulati',\n",
       " 'c': 'c',\n",
       " 'gastroenteropathy': 'gastroenteropathy',\n",
       " 'norwalk': 'norwalk',\n",
       " '-(': '-(',\n",
       " 'super': 'super',\n",
       " 'infection': 'infection',\n",
       " 'carrier': 'carrier',\n",
       " 'imported': 'imported',\n",
       " 'meningococcemia': 'meningococcemia',\n",
       " 'small': 'small',\n",
       " 'round': 'round',\n",
       " 'viruses': 'viruses',\n",
       " 'nonparalytic': 'nonparalytic',\n",
       " 'sequelae': 'sequelae'}"
      ]
     },
     "execution_count": 43,
     "metadata": {},
     "output_type": "execute_result"
    }
   ],
   "source": [
    "capital_dict"
   ]
  },
  {
   "cell_type": "code",
   "execution_count": null,
   "metadata": {},
   "outputs": [],
   "source": []
  }
 ],
 "metadata": {
  "kernelspec": {
   "display_name": "Python 3",
   "language": "python",
   "name": "python3"
  },
  "language_info": {
   "codemirror_mode": {
    "name": "ipython",
    "version": 3
   },
   "file_extension": ".py",
   "mimetype": "text/x-python",
   "name": "python",
   "nbconvert_exporter": "python",
   "pygments_lexer": "ipython3",
   "version": "3.6.1"
  }
 },
 "nbformat": 4,
 "nbformat_minor": 2
}
